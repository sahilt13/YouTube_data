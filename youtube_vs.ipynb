{
 "metadata": {
  "language_info": {
   "codemirror_mode": {
    "name": "ipython",
    "version": 3
   },
   "file_extension": ".py",
   "mimetype": "text/x-python",
   "name": "python",
   "nbconvert_exporter": "python",
   "pygments_lexer": "ipython3",
   "version": "3.8.2"
  },
  "orig_nbformat": 2,
  "kernelspec": {
   "name": "python3",
   "display_name": "Python 3.8.2 64-bit"
  },
  "metadata": {
   "interpreter": {
    "hash": "31f2aee4e71d21fbe5cf8b01ff0e069b9275f58929596ceb00d14d90e3e16cd6"
   }
  },
  "interpreter": {
   "hash": "31f2aee4e71d21fbe5cf8b01ff0e069b9275f58929596ceb00d14d90e3e16cd6"
  }
 },
 "nbformat": 4,
 "nbformat_minor": 2,
 "cells": [
  {
   "cell_type": "code",
   "execution_count": 17,
   "source": [
    "from yt_api import yt_extract\n",
    "import pandas as pd\n"
   ],
   "outputs": [],
   "metadata": {}
  },
  {
   "cell_type": "code",
   "execution_count": 18,
   "source": [
    "#Add channel id and your API key \n",
    "\n",
    "key= \"\"\n"
   ],
   "outputs": [],
   "metadata": {}
  },
  {
   "cell_type": "code",
   "execution_count": 19,
   "source": [
    "#Add channel name here\n",
    "channel_nm=\"--Channel name here--\"\n",
    "\n",
    "#Add channel id from YouTube here\n",
    "channel_id = \"---Channelid here---\""
   ],
   "outputs": [],
   "metadata": {}
  },
  {
   "cell_type": "code",
   "execution_count": 20,
   "source": [
    "#This creates an object of youtube class (run this before running any other patch)\n",
    "\n",
    "y_obj=yt_extract(key,channel_id)\n"
   ],
   "outputs": [],
   "metadata": {}
  },
  {
   "cell_type": "code",
   "execution_count": null,
   "source": [
    "#Run this to extract channel statistics\n",
    "\n",
    "channel_stats=y_obj.get_data()\n",
    "\n",
    "#output is a dataframe of statistics\n",
    "channel_statistics=pd.DataFrame.from_dict(channel_stats,orient='index',columns=[\"stats\"])\n",
    "\n",
    "print(channel_statistics)\n",
    "\n",
    "file_name= channel_nm+\"_channel_stats\"\n",
    "\n",
    "channel_statistics.to_csv(f'./Output/{file_name}.csv')"
   ],
   "outputs": [],
   "metadata": {}
  },
  {
   "cell_type": "code",
   "execution_count": 22,
   "source": [
    "#This part extract list of all the videos from the selected channel id\n",
    "#Date format should be as shown in the code\n",
    "#limit should be set based on multiple of 50 (eg. setting 2 will extract a max of 100 video list)\n",
    "\n",
    "video_list=y_obj.video_list(limit=10, start_date=\"2020-09-01\",end_date=\"2021-06-15\")\n",
    "\n"
   ],
   "outputs": [],
   "metadata": {}
  },
  {
   "cell_type": "code",
   "execution_count": null,
   "source": [
    "video_key=video_list.videoId\n",
    "\n",
    "#output is a data frame with all video keys\n",
    "#print(video_key)"
   ],
   "outputs": [],
   "metadata": {}
  },
  {
   "cell_type": "code",
   "execution_count": 25,
   "source": [
    "#this patch can be used to subset the list for using in later patches(eg if only top 2 video information is needed to be extracted)\n",
    "\n",
    "key_sub=video_key"
   ],
   "outputs": [],
   "metadata": {}
  },
  {
   "cell_type": "code",
   "execution_count": null,
   "source": [
    "#This patch extracts all the data related to video of supplied video key(here video key is extracted from previous patch)\n",
    "\n",
    "vid_data=y_obj.video_data(key_sub)\n",
    "\n",
    "#output is data frame\n",
    "print(vid_data)"
   ],
   "outputs": [],
   "metadata": {}
  },
  {
   "cell_type": "code",
   "execution_count": 11,
   "source": [
    "vid_data=vid_data.merge(video_list.rename({'videoId': 'Video_key'}, axis=1),how=\"left\",on=\"Video_key\")\n",
    "\n",
    "file_name=channel_nm+\"_video_list\"\n",
    "\n",
    "vid_data.to_csv(f'./Output/{file_name}.csv')"
   ],
   "outputs": [],
   "metadata": {}
  },
  {
   "cell_type": "code",
   "execution_count": 12,
   "source": [
    "file_name=channel_nm+\"_video_list\"\n",
    "\n",
    "vid_data.to_csv(f'./Output/{file_name}.csv')"
   ],
   "outputs": [],
   "metadata": {}
  },
  {
   "cell_type": "code",
   "execution_count": 26,
   "source": [
    "#max_comments is multiple of 20\n",
    "#output is a pandas data frame\n",
    "#we can loop thorugh this based on video_key from video_key list extracted in previous step\n",
    "\n",
    "#comm_f=pd.DataFrame(columns=['id','auth_id','name','comment','like_count','reply_count','published_date','video_id'])\n",
    "i=0\n",
    "for key in key_sub:\n",
    "    comm=y_obj.get_comments(video_key=key,max_comments=50)\n",
    "    comm['video_id']=key\n",
    "    comm_f=comm_f.append(comm,ignore_index=True)\n",
    "    print(i)\n",
    "    i=i+1\n",
    "    \n",
    "\n",
    "    "
   ],
   "outputs": [],
   "metadata": {}
  },
  {
   "cell_type": "code",
   "execution_count": 16,
   "source": [
    "#Output can be exported to csv file\n",
    "file_name= channel_nm+\"_comments\"\n",
    "\n",
    "comm_f.to_csv(f'./Output/{file_name}.csv')"
   ],
   "outputs": [],
   "metadata": {}
  },
  {
   "cell_type": "code",
   "execution_count": 13,
   "source": [
    "#this patch downloads the subtitles from the video\n",
    "#change url before running\n",
    "#output is a txt file downloaded in the working directory(change \"sahil\" to required file name)\n",
    "\n",
    "import os\n",
    "\n",
    "def download_subs(video_url,  name):\n",
    "    cmd = [\n",
    "        \"youtube-dl\",\n",
    "        \"--skip-download\",\n",
    "        \"--write-auto-sub\",\n",
    "        \"--sub-format\",\n",
    "        \"txt\",\n",
    "        \"-o\",\n",
    "        name,\n",
    "       # \"--sub-lang\",\n",
    "      #  lang,\n",
    "        video_url\n",
    "    ]\n",
    "\n",
    "    os.system(\" \".join(cmd))\n",
    "\n",
    "\n"
   ],
   "outputs": [],
   "metadata": {}
  },
  {
   "cell_type": "code",
   "execution_count": null,
   "source": [
    "key_sub2=key_sub[101:160]\n",
    "\n",
    "channel_name=\"ConorKenny\"\n",
    "\n",
    "\n",
    "for key in key_sub2:\n",
    "    print(key)\n",
    "    url=f'https://www.youtube.com/watch?v={key}&ab_channel={channel_name}'\n",
    "    download_subs(url,key)"
   ],
   "outputs": [],
   "metadata": {}
  }
 ]
}